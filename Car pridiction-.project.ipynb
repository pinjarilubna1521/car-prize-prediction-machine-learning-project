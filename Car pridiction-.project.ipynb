{
 "cells": [
  {
   "cell_type": "code",
   "execution_count": 10,
   "id": "e225b228-067b-4053-8f8a-6353ba4329fe",
   "metadata": {},
   "outputs": [],
   "source": [
    "import numpy as np\n",
    "import pandas as pd\n",
    "import matplotlib.pyplot as plt \n",
    "import seaborn as sns"
   ]
  },
  {
   "cell_type": "code",
   "execution_count": 12,
   "id": "e28a766e-2468-4a57-910b-a39d4305461f",
   "metadata": {},
   "outputs": [
    {
     "data": {
      "text/html": [
       "<div>\n",
       "<style scoped>\n",
       "    .dataframe tbody tr th:only-of-type {\n",
       "        vertical-align: middle;\n",
       "    }\n",
       "\n",
       "    .dataframe tbody tr th {\n",
       "        vertical-align: top;\n",
       "    }\n",
       "\n",
       "    .dataframe thead th {\n",
       "        text-align: right;\n",
       "    }\n",
       "</style>\n",
       "<table border=\"1\" class=\"dataframe\">\n",
       "  <thead>\n",
       "    <tr style=\"text-align: right;\">\n",
       "      <th></th>\n",
       "      <th>name</th>\n",
       "      <th>year</th>\n",
       "      <th>selling_price</th>\n",
       "      <th>km_driven</th>\n",
       "      <th>fuel</th>\n",
       "      <th>seller_type</th>\n",
       "      <th>transmission</th>\n",
       "      <th>owner</th>\n",
       "    </tr>\n",
       "  </thead>\n",
       "  <tbody>\n",
       "    <tr>\n",
       "      <th>0</th>\n",
       "      <td>Maruti 800 AC</td>\n",
       "      <td>2007</td>\n",
       "      <td>60000</td>\n",
       "      <td>70000</td>\n",
       "      <td>Petrol</td>\n",
       "      <td>Individual</td>\n",
       "      <td>Manual</td>\n",
       "      <td>First Owner</td>\n",
       "    </tr>\n",
       "    <tr>\n",
       "      <th>1</th>\n",
       "      <td>Maruti Wagon R LXI Minor</td>\n",
       "      <td>2007</td>\n",
       "      <td>135000</td>\n",
       "      <td>50000</td>\n",
       "      <td>Petrol</td>\n",
       "      <td>Individual</td>\n",
       "      <td>Manual</td>\n",
       "      <td>First Owner</td>\n",
       "    </tr>\n",
       "    <tr>\n",
       "      <th>2</th>\n",
       "      <td>Hyundai Verna 1.6 SX</td>\n",
       "      <td>2012</td>\n",
       "      <td>600000</td>\n",
       "      <td>100000</td>\n",
       "      <td>Diesel</td>\n",
       "      <td>Individual</td>\n",
       "      <td>Manual</td>\n",
       "      <td>First Owner</td>\n",
       "    </tr>\n",
       "    <tr>\n",
       "      <th>3</th>\n",
       "      <td>Datsun RediGO T Option</td>\n",
       "      <td>2017</td>\n",
       "      <td>250000</td>\n",
       "      <td>46000</td>\n",
       "      <td>Petrol</td>\n",
       "      <td>Individual</td>\n",
       "      <td>Manual</td>\n",
       "      <td>First Owner</td>\n",
       "    </tr>\n",
       "    <tr>\n",
       "      <th>4</th>\n",
       "      <td>Honda Amaze VX i-DTEC</td>\n",
       "      <td>2014</td>\n",
       "      <td>450000</td>\n",
       "      <td>141000</td>\n",
       "      <td>Diesel</td>\n",
       "      <td>Individual</td>\n",
       "      <td>Manual</td>\n",
       "      <td>Second Owner</td>\n",
       "    </tr>\n",
       "    <tr>\n",
       "      <th>...</th>\n",
       "      <td>...</td>\n",
       "      <td>...</td>\n",
       "      <td>...</td>\n",
       "      <td>...</td>\n",
       "      <td>...</td>\n",
       "      <td>...</td>\n",
       "      <td>...</td>\n",
       "      <td>...</td>\n",
       "    </tr>\n",
       "    <tr>\n",
       "      <th>4335</th>\n",
       "      <td>Hyundai i20 Magna 1.4 CRDi (Diesel)</td>\n",
       "      <td>2014</td>\n",
       "      <td>409999</td>\n",
       "      <td>80000</td>\n",
       "      <td>Diesel</td>\n",
       "      <td>Individual</td>\n",
       "      <td>Manual</td>\n",
       "      <td>Second Owner</td>\n",
       "    </tr>\n",
       "    <tr>\n",
       "      <th>4336</th>\n",
       "      <td>Hyundai i20 Magna 1.4 CRDi</td>\n",
       "      <td>2014</td>\n",
       "      <td>409999</td>\n",
       "      <td>80000</td>\n",
       "      <td>Diesel</td>\n",
       "      <td>Individual</td>\n",
       "      <td>Manual</td>\n",
       "      <td>Second Owner</td>\n",
       "    </tr>\n",
       "    <tr>\n",
       "      <th>4337</th>\n",
       "      <td>Maruti 800 AC BSIII</td>\n",
       "      <td>2009</td>\n",
       "      <td>110000</td>\n",
       "      <td>83000</td>\n",
       "      <td>Petrol</td>\n",
       "      <td>Individual</td>\n",
       "      <td>Manual</td>\n",
       "      <td>Second Owner</td>\n",
       "    </tr>\n",
       "    <tr>\n",
       "      <th>4338</th>\n",
       "      <td>Hyundai Creta 1.6 CRDi SX Option</td>\n",
       "      <td>2016</td>\n",
       "      <td>865000</td>\n",
       "      <td>90000</td>\n",
       "      <td>Diesel</td>\n",
       "      <td>Individual</td>\n",
       "      <td>Manual</td>\n",
       "      <td>First Owner</td>\n",
       "    </tr>\n",
       "    <tr>\n",
       "      <th>4339</th>\n",
       "      <td>Renault KWID RXT</td>\n",
       "      <td>2016</td>\n",
       "      <td>225000</td>\n",
       "      <td>40000</td>\n",
       "      <td>Petrol</td>\n",
       "      <td>Individual</td>\n",
       "      <td>Manual</td>\n",
       "      <td>First Owner</td>\n",
       "    </tr>\n",
       "  </tbody>\n",
       "</table>\n",
       "<p>4340 rows × 8 columns</p>\n",
       "</div>"
      ],
      "text/plain": [
       "                                     name  year  selling_price  km_driven  \\\n",
       "0                           Maruti 800 AC  2007          60000      70000   \n",
       "1                Maruti Wagon R LXI Minor  2007         135000      50000   \n",
       "2                    Hyundai Verna 1.6 SX  2012         600000     100000   \n",
       "3                  Datsun RediGO T Option  2017         250000      46000   \n",
       "4                   Honda Amaze VX i-DTEC  2014         450000     141000   \n",
       "...                                   ...   ...            ...        ...   \n",
       "4335  Hyundai i20 Magna 1.4 CRDi (Diesel)  2014         409999      80000   \n",
       "4336           Hyundai i20 Magna 1.4 CRDi  2014         409999      80000   \n",
       "4337                  Maruti 800 AC BSIII  2009         110000      83000   \n",
       "4338     Hyundai Creta 1.6 CRDi SX Option  2016         865000      90000   \n",
       "4339                     Renault KWID RXT  2016         225000      40000   \n",
       "\n",
       "        fuel seller_type transmission         owner  \n",
       "0     Petrol  Individual       Manual   First Owner  \n",
       "1     Petrol  Individual       Manual   First Owner  \n",
       "2     Diesel  Individual       Manual   First Owner  \n",
       "3     Petrol  Individual       Manual   First Owner  \n",
       "4     Diesel  Individual       Manual  Second Owner  \n",
       "...      ...         ...          ...           ...  \n",
       "4335  Diesel  Individual       Manual  Second Owner  \n",
       "4336  Diesel  Individual       Manual  Second Owner  \n",
       "4337  Petrol  Individual       Manual  Second Owner  \n",
       "4338  Diesel  Individual       Manual   First Owner  \n",
       "4339  Petrol  Individual       Manual   First Owner  \n",
       "\n",
       "[4340 rows x 8 columns]"
      ]
     },
     "execution_count": 12,
     "metadata": {},
     "output_type": "execute_result"
    }
   ],
   "source": [
    "df=pd.read_csv(\"Car pridiction.csv\")\n",
    "df"
   ]
  },
  {
   "cell_type": "code",
   "execution_count": 14,
   "id": "e7d9dbc6-6a84-46ae-bde3-a7cae166fd23",
   "metadata": {},
   "outputs": [
    {
     "data": {
      "text/plain": [
       "Index(['name', 'year', 'selling_price', 'km_driven', 'fuel', 'seller_type',\n",
       "       'transmission', 'owner'],\n",
       "      dtype='object')"
      ]
     },
     "execution_count": 14,
     "metadata": {},
     "output_type": "execute_result"
    }
   ],
   "source": [
    "df.keys()"
   ]
  },
  {
   "cell_type": "code",
   "execution_count": 16,
   "id": "f43e4746-33bc-481b-9035-d935099aae0f",
   "metadata": {},
   "outputs": [
    {
     "name": "stdout",
     "output_type": "stream",
     "text": [
      "<class 'pandas.core.frame.DataFrame'>\n",
      "RangeIndex: 4340 entries, 0 to 4339\n",
      "Data columns (total 8 columns):\n",
      " #   Column         Non-Null Count  Dtype \n",
      "---  ------         --------------  ----- \n",
      " 0   name           4340 non-null   object\n",
      " 1   year           4340 non-null   int64 \n",
      " 2   selling_price  4340 non-null   int64 \n",
      " 3   km_driven      4340 non-null   int64 \n",
      " 4   fuel           4340 non-null   object\n",
      " 5   seller_type    4340 non-null   object\n",
      " 6   transmission   4340 non-null   object\n",
      " 7   owner          4340 non-null   object\n",
      "dtypes: int64(3), object(5)\n",
      "memory usage: 271.4+ KB\n"
     ]
    }
   ],
   "source": [
    "df.info()\n"
   ]
  },
  {
   "cell_type": "code",
   "execution_count": 18,
   "id": "7a36e4b0-1cab-42d7-abc8-eb9dd04bc1f9",
   "metadata": {},
   "outputs": [
    {
     "data": {
      "text/plain": [
       "(4340, 8)"
      ]
     },
     "execution_count": 18,
     "metadata": {},
     "output_type": "execute_result"
    }
   ],
   "source": [
    "df.shape "
   ]
  },
  {
   "cell_type": "code",
   "execution_count": 20,
   "id": "9b6297d5-e7be-4694-95c2-1aab69782567",
   "metadata": {},
   "outputs": [
    {
     "data": {
      "text/plain": [
       "0"
      ]
     },
     "execution_count": 20,
     "metadata": {},
     "output_type": "execute_result"
    }
   ],
   "source": [
    "df.isnull().sum().sum()"
   ]
  },
  {
   "cell_type": "code",
   "execution_count": 22,
   "id": "47e7ab84-d5b7-47a4-9fcc-30e43e6e3919",
   "metadata": {},
   "outputs": [
    {
     "data": {
      "text/html": [
       "<div>\n",
       "<style scoped>\n",
       "    .dataframe tbody tr th:only-of-type {\n",
       "        vertical-align: middle;\n",
       "    }\n",
       "\n",
       "    .dataframe tbody tr th {\n",
       "        vertical-align: top;\n",
       "    }\n",
       "\n",
       "    .dataframe thead th {\n",
       "        text-align: right;\n",
       "    }\n",
       "</style>\n",
       "<table border=\"1\" class=\"dataframe\">\n",
       "  <thead>\n",
       "    <tr style=\"text-align: right;\">\n",
       "      <th></th>\n",
       "      <th>name</th>\n",
       "      <th>year</th>\n",
       "      <th>selling_price</th>\n",
       "      <th>km_driven</th>\n",
       "      <th>fuel</th>\n",
       "      <th>seller_type</th>\n",
       "      <th>transmission</th>\n",
       "      <th>owner</th>\n",
       "    </tr>\n",
       "  </thead>\n",
       "  <tbody>\n",
       "    <tr>\n",
       "      <th>0</th>\n",
       "      <td>Maruti 800 AC</td>\n",
       "      <td>2007</td>\n",
       "      <td>60000</td>\n",
       "      <td>70000</td>\n",
       "      <td>Petrol</td>\n",
       "      <td>Individual</td>\n",
       "      <td>Manual</td>\n",
       "      <td>First Owner</td>\n",
       "    </tr>\n",
       "    <tr>\n",
       "      <th>1</th>\n",
       "      <td>Maruti Wagon R LXI Minor</td>\n",
       "      <td>2007</td>\n",
       "      <td>135000</td>\n",
       "      <td>50000</td>\n",
       "      <td>Petrol</td>\n",
       "      <td>Individual</td>\n",
       "      <td>Manual</td>\n",
       "      <td>First Owner</td>\n",
       "    </tr>\n",
       "    <tr>\n",
       "      <th>2</th>\n",
       "      <td>Hyundai Verna 1.6 SX</td>\n",
       "      <td>2012</td>\n",
       "      <td>600000</td>\n",
       "      <td>100000</td>\n",
       "      <td>Diesel</td>\n",
       "      <td>Individual</td>\n",
       "      <td>Manual</td>\n",
       "      <td>First Owner</td>\n",
       "    </tr>\n",
       "    <tr>\n",
       "      <th>3</th>\n",
       "      <td>Datsun RediGO T Option</td>\n",
       "      <td>2017</td>\n",
       "      <td>250000</td>\n",
       "      <td>46000</td>\n",
       "      <td>Petrol</td>\n",
       "      <td>Individual</td>\n",
       "      <td>Manual</td>\n",
       "      <td>First Owner</td>\n",
       "    </tr>\n",
       "    <tr>\n",
       "      <th>4</th>\n",
       "      <td>Honda Amaze VX i-DTEC</td>\n",
       "      <td>2014</td>\n",
       "      <td>450000</td>\n",
       "      <td>141000</td>\n",
       "      <td>Diesel</td>\n",
       "      <td>Individual</td>\n",
       "      <td>Manual</td>\n",
       "      <td>Second Owner</td>\n",
       "    </tr>\n",
       "  </tbody>\n",
       "</table>\n",
       "</div>"
      ],
      "text/plain": [
       "                       name  year  selling_price  km_driven    fuel  \\\n",
       "0             Maruti 800 AC  2007          60000      70000  Petrol   \n",
       "1  Maruti Wagon R LXI Minor  2007         135000      50000  Petrol   \n",
       "2      Hyundai Verna 1.6 SX  2012         600000     100000  Diesel   \n",
       "3    Datsun RediGO T Option  2017         250000      46000  Petrol   \n",
       "4     Honda Amaze VX i-DTEC  2014         450000     141000  Diesel   \n",
       "\n",
       "  seller_type transmission         owner  \n",
       "0  Individual       Manual   First Owner  \n",
       "1  Individual       Manual   First Owner  \n",
       "2  Individual       Manual   First Owner  \n",
       "3  Individual       Manual   First Owner  \n",
       "4  Individual       Manual  Second Owner  "
      ]
     },
     "execution_count": 22,
     "metadata": {},
     "output_type": "execute_result"
    }
   ],
   "source": [
    "df.head(5)\n"
   ]
  },
  {
   "cell_type": "code",
   "execution_count": 24,
   "id": "0714ff38-ff07-4d5a-b2b6-dd342e3dcbec",
   "metadata": {},
   "outputs": [
    {
     "data": {
      "text/html": [
       "<div>\n",
       "<style scoped>\n",
       "    .dataframe tbody tr th:only-of-type {\n",
       "        vertical-align: middle;\n",
       "    }\n",
       "\n",
       "    .dataframe tbody tr th {\n",
       "        vertical-align: top;\n",
       "    }\n",
       "\n",
       "    .dataframe thead th {\n",
       "        text-align: right;\n",
       "    }\n",
       "</style>\n",
       "<table border=\"1\" class=\"dataframe\">\n",
       "  <thead>\n",
       "    <tr style=\"text-align: right;\">\n",
       "      <th></th>\n",
       "      <th>name</th>\n",
       "      <th>year</th>\n",
       "      <th>selling_price</th>\n",
       "      <th>km_driven</th>\n",
       "      <th>fuel</th>\n",
       "      <th>seller_type</th>\n",
       "      <th>transmission</th>\n",
       "      <th>owner</th>\n",
       "    </tr>\n",
       "  </thead>\n",
       "  <tbody>\n",
       "    <tr>\n",
       "      <th>4334</th>\n",
       "      <td>Toyota Innova 2.5 VX (Diesel) 8 Seater BS IV</td>\n",
       "      <td>2012</td>\n",
       "      <td>600000</td>\n",
       "      <td>170000</td>\n",
       "      <td>Diesel</td>\n",
       "      <td>Individual</td>\n",
       "      <td>Manual</td>\n",
       "      <td>First Owner</td>\n",
       "    </tr>\n",
       "    <tr>\n",
       "      <th>4335</th>\n",
       "      <td>Hyundai i20 Magna 1.4 CRDi (Diesel)</td>\n",
       "      <td>2014</td>\n",
       "      <td>409999</td>\n",
       "      <td>80000</td>\n",
       "      <td>Diesel</td>\n",
       "      <td>Individual</td>\n",
       "      <td>Manual</td>\n",
       "      <td>Second Owner</td>\n",
       "    </tr>\n",
       "    <tr>\n",
       "      <th>4336</th>\n",
       "      <td>Hyundai i20 Magna 1.4 CRDi</td>\n",
       "      <td>2014</td>\n",
       "      <td>409999</td>\n",
       "      <td>80000</td>\n",
       "      <td>Diesel</td>\n",
       "      <td>Individual</td>\n",
       "      <td>Manual</td>\n",
       "      <td>Second Owner</td>\n",
       "    </tr>\n",
       "    <tr>\n",
       "      <th>4337</th>\n",
       "      <td>Maruti 800 AC BSIII</td>\n",
       "      <td>2009</td>\n",
       "      <td>110000</td>\n",
       "      <td>83000</td>\n",
       "      <td>Petrol</td>\n",
       "      <td>Individual</td>\n",
       "      <td>Manual</td>\n",
       "      <td>Second Owner</td>\n",
       "    </tr>\n",
       "    <tr>\n",
       "      <th>4338</th>\n",
       "      <td>Hyundai Creta 1.6 CRDi SX Option</td>\n",
       "      <td>2016</td>\n",
       "      <td>865000</td>\n",
       "      <td>90000</td>\n",
       "      <td>Diesel</td>\n",
       "      <td>Individual</td>\n",
       "      <td>Manual</td>\n",
       "      <td>First Owner</td>\n",
       "    </tr>\n",
       "    <tr>\n",
       "      <th>4339</th>\n",
       "      <td>Renault KWID RXT</td>\n",
       "      <td>2016</td>\n",
       "      <td>225000</td>\n",
       "      <td>40000</td>\n",
       "      <td>Petrol</td>\n",
       "      <td>Individual</td>\n",
       "      <td>Manual</td>\n",
       "      <td>First Owner</td>\n",
       "    </tr>\n",
       "  </tbody>\n",
       "</table>\n",
       "</div>"
      ],
      "text/plain": [
       "                                              name  year  selling_price  \\\n",
       "4334  Toyota Innova 2.5 VX (Diesel) 8 Seater BS IV  2012         600000   \n",
       "4335           Hyundai i20 Magna 1.4 CRDi (Diesel)  2014         409999   \n",
       "4336                    Hyundai i20 Magna 1.4 CRDi  2014         409999   \n",
       "4337                           Maruti 800 AC BSIII  2009         110000   \n",
       "4338              Hyundai Creta 1.6 CRDi SX Option  2016         865000   \n",
       "4339                              Renault KWID RXT  2016         225000   \n",
       "\n",
       "      km_driven    fuel seller_type transmission         owner  \n",
       "4334     170000  Diesel  Individual       Manual   First Owner  \n",
       "4335      80000  Diesel  Individual       Manual  Second Owner  \n",
       "4336      80000  Diesel  Individual       Manual  Second Owner  \n",
       "4337      83000  Petrol  Individual       Manual  Second Owner  \n",
       "4338      90000  Diesel  Individual       Manual   First Owner  \n",
       "4339      40000  Petrol  Individual       Manual   First Owner  "
      ]
     },
     "execution_count": 24,
     "metadata": {},
     "output_type": "execute_result"
    }
   ],
   "source": [
    "df.tail(6)"
   ]
  },
  {
   "cell_type": "code",
   "execution_count": 26,
   "id": "9d8224a6-2e5e-43f2-955e-f46ffc7225ce",
   "metadata": {},
   "outputs": [
    {
     "data": {
      "text/html": [
       "<div>\n",
       "<style scoped>\n",
       "    .dataframe tbody tr th:only-of-type {\n",
       "        vertical-align: middle;\n",
       "    }\n",
       "\n",
       "    .dataframe tbody tr th {\n",
       "        vertical-align: top;\n",
       "    }\n",
       "\n",
       "    .dataframe thead th {\n",
       "        text-align: right;\n",
       "    }\n",
       "</style>\n",
       "<table border=\"1\" class=\"dataframe\">\n",
       "  <thead>\n",
       "    <tr style=\"text-align: right;\">\n",
       "      <th></th>\n",
       "      <th>name</th>\n",
       "      <th>year</th>\n",
       "      <th>selling_price</th>\n",
       "      <th>km_driven</th>\n",
       "      <th>fuel</th>\n",
       "      <th>seller_type</th>\n",
       "      <th>transmission</th>\n",
       "      <th>owner</th>\n",
       "    </tr>\n",
       "  </thead>\n",
       "  <tbody>\n",
       "    <tr>\n",
       "      <th>0</th>\n",
       "      <td>775</td>\n",
       "      <td>13</td>\n",
       "      <td>17</td>\n",
       "      <td>474</td>\n",
       "      <td>4</td>\n",
       "      <td>1</td>\n",
       "      <td>1</td>\n",
       "      <td>0</td>\n",
       "    </tr>\n",
       "    <tr>\n",
       "      <th>1</th>\n",
       "      <td>1041</td>\n",
       "      <td>13</td>\n",
       "      <td>60</td>\n",
       "      <td>335</td>\n",
       "      <td>4</td>\n",
       "      <td>1</td>\n",
       "      <td>1</td>\n",
       "      <td>0</td>\n",
       "    </tr>\n",
       "    <tr>\n",
       "      <th>2</th>\n",
       "      <td>505</td>\n",
       "      <td>18</td>\n",
       "      <td>236</td>\n",
       "      <td>607</td>\n",
       "      <td>1</td>\n",
       "      <td>1</td>\n",
       "      <td>1</td>\n",
       "      <td>0</td>\n",
       "    </tr>\n",
       "    <tr>\n",
       "      <th>3</th>\n",
       "      <td>118</td>\n",
       "      <td>23</td>\n",
       "      <td>114</td>\n",
       "      <td>309</td>\n",
       "      <td>4</td>\n",
       "      <td>1</td>\n",
       "      <td>1</td>\n",
       "      <td>0</td>\n",
       "    </tr>\n",
       "    <tr>\n",
       "      <th>4</th>\n",
       "      <td>279</td>\n",
       "      <td>20</td>\n",
       "      <td>193</td>\n",
       "      <td>681</td>\n",
       "      <td>1</td>\n",
       "      <td>1</td>\n",
       "      <td>1</td>\n",
       "      <td>2</td>\n",
       "    </tr>\n",
       "  </tbody>\n",
       "</table>\n",
       "</div>"
      ],
      "text/plain": [
       "   name  year  selling_price  km_driven  fuel  seller_type  transmission  \\\n",
       "0   775    13             17        474     4            1             1   \n",
       "1  1041    13             60        335     4            1             1   \n",
       "2   505    18            236        607     1            1             1   \n",
       "3   118    23            114        309     4            1             1   \n",
       "4   279    20            193        681     1            1             1   \n",
       "\n",
       "   owner  \n",
       "0      0  \n",
       "1      0  \n",
       "2      0  \n",
       "3      0  \n",
       "4      2  "
      ]
     },
     "execution_count": 26,
     "metadata": {},
     "output_type": "execute_result"
    }
   ],
   "source": [
    "from sklearn.preprocessing import LabelEncoder\n",
    "\n",
    "obj_cols = ['name',\t'year'\t,'selling_price','km_driven','fuel','seller_type','transmission','owner']\n",
    "for col in obj_cols:\n",
    "    le = LabelEncoder()\n",
    "    df[col] = le.fit_transform(df[col])\n",
    "\n",
    "df.head()\n"
   ]
  },
  {
   "cell_type": "markdown",
   "id": "cb99b006-2c43-45ba-bd77-1214e42e120a",
   "metadata": {},
   "source": [
    "# data vusualization"
   ]
  },
  {
   "cell_type": "code",
   "execution_count": 28,
   "id": "9cd14119-d062-459b-8a66-5b1981d55c46",
   "metadata": {},
   "outputs": [],
   "source": [
    "import seaborn as sns"
   ]
  },
  {
   "cell_type": "code",
   "execution_count": 30,
   "id": "604b0c0a-c2ee-4a83-ab2c-1737125b1e4e",
   "metadata": {},
   "outputs": [
    {
     "data": {
      "text/plain": [
       "Text(0, 0.5, 'seller_type')"
      ]
     },
     "execution_count": 30,
     "metadata": {},
     "output_type": "execute_result"
    },
    {
     "data": {
      "image/png": "[encoded data removed]",
      "text/plain": [
       "<Figure size 640x480 with 1 Axes>"
      ]
     },
     "metadata": {},
     "output_type": "display_data"
    }
   ],
   "source": [
    "sns.barplot(x='fuel',y='seller_type',data=df)\n",
    "plt.title('Bar plot:')\n",
    "plt.xlabel('fuel')\n",
    "plt.ylabel('seller_type')"
   ]
  },
  {
   "cell_type": "code",
   "execution_count": 32,
   "id": "d5f9cff9-6c50-4b8a-9240-8bea630b7fdd",
   "metadata": {},
   "outputs": [
    {
     "data": {
      "text/plain": [
       "Text(0, 0.5, 'selling_price')"
      ]
     },
     "execution_count": 32,
     "metadata": {},
     "output_type": "execute_result"
    },
    {
     "data": {
      "image/png": "[encoded data removed]",
      "text/plain": [
       "<Figure size 640x480 with 1 Axes>"
      ]
     },
     "metadata": {},
     "output_type": "display_data"
    }
   ],
   "source": [
    "sns.barplot(x='owner',y='km_driven', data=df)\n",
    "plt.title('Bar plot:')\n",
    "plt.xlabel('owner')\n",
    "plt.ylabel('selling_price')"
   ]
  },
  {
   "cell_type": "markdown",
   "id": "8ecfe007-bf10-456a-ab75-846c6fb020a5",
   "metadata": {},
   "source": [
    "# split data"
   ]
  },
  {
   "cell_type": "code",
   "execution_count": 34,
   "id": "2136d142-d594-4f3f-9bed-3e90eb4520a8",
   "metadata": {},
   "outputs": [
    {
     "name": "stdout",
     "output_type": "stream",
     "text": [
      "Shape of X =  (4340, 7)\n",
      "Shape of y =  (4340,)\n"
     ]
    }
   ],
   "source": [
    "X = df.drop('selling_price', axis=1)\n",
    "y = df['selling_price']\n",
    "\n",
    "print('Shape of X = ', X.shape)\n",
    "print('Shape of y = ', y.shape)"
   ]
  },
  {
   "cell_type": "code",
   "execution_count": 38,
   "id": "6c6cd81c-8656-47a6-bf26-c0739d57f019",
   "metadata": {},
   "outputs": [
    {
     "name": "stdout",
     "output_type": "stream",
     "text": [
      "Shape of X_train =  (3472, 7)\n",
      "Shape of y_train =  (3472,)\n",
      "Shape of X_test =  (868, 7)\n",
      "Shape of y_test =  (868,)\n"
     ]
    }
   ],
   "source": [
    "from sklearn.model_selection import train_test_split\n",
    "X_train, X_test, y_train, y_test = train_test_split(X, y, test_size=0.2, random_state=51)\n",
    "\n",
    "print('Shape of X_train = ', X_train.shape)\n",
    "print('Shape of y_train = ', y_train.shape)\n",
    "print('Shape of X_test = ', X_test.shape)\n",
    "print('Shape of y_test = ', y_test.shape)\n"
   ]
  },
  {
   "cell_type": "markdown",
   "id": "9e0f8659-4463-4031-9fec-3c4d00e50bb9",
   "metadata": {},
   "source": [
    "# Feature Scaling"
   ]
  },
  {
   "cell_type": "code",
   "execution_count": 40,
   "id": "eb420e7e-e713-42e7-a2ef-d9a366654318",
   "metadata": {},
   "outputs": [],
   "source": [
    "from sklearn.preprocessing import StandardScaler\n",
    "sc = StandardScaler()\n",
    "sc.fit(X_train)\n",
    "X_train = sc.transform(X_train)\n",
    "X_test = sc.transform(X_test)"
   ]
  },
  {
   "cell_type": "markdown",
   "id": "aa3baac6-ac51-4def-82c0-f5406341d6f0",
   "metadata": {},
   "source": [
    "# Linear Regression - ML Model Training"
   ]
  },
  {
   "cell_type": "code",
   "execution_count": 42,
   "id": "0732ef4e-e5c8-4e18-8018-1b1cf1eed05d",
   "metadata": {},
   "outputs": [
    {
     "data": {
      "text/html": [
       "<style>#sk-container-id-1 {color: black;background-color: white;}#sk-container-id-1 pre{padding: 0;}#sk-container-id-1 div.sk-toggleable {background-color: white;}#sk-container-id-1 label.sk-toggleable__label {cursor: pointer;display: block;width: 100%;margin-bottom: 0;padding: 0.3em;box-sizing: border-box;text-align: center;}#sk-container-id-1 label.sk-toggleable__label-arrow:before {content: \"▸\";float: left;margin-right: 0.25em;color: #696969;}#sk-container-id-1 label.sk-toggleable__label-arrow:hover:before {color: black;}#sk-container-id-1 div.sk-estimator:hover label.sk-toggleable__label-arrow:before {color: black;}#sk-container-id-1 div.sk-toggleable__content {max-height: 0;max-width: 0;overflow: hidden;text-align: left;background-color: #f0f8ff;}#sk-container-id-1 div.sk-toggleable__content pre {margin: 0.2em;color: black;border-radius: 0.25em;background-color: #f0f8ff;}#sk-container-id-1 input.sk-toggleable__control:checked~div.sk-toggleable__content {max-height: 200px;max-width: 100%;overflow: auto;}#sk-container-id-1 input.sk-toggleable__control:checked~label.sk-toggleable__label-arrow:before {content: \"▾\";}#sk-container-id-1 div.sk-estimator input.sk-toggleable__control:checked~label.sk-toggleable__label {background-color: #d4ebff;}#sk-container-id-1 div.sk-label input.sk-toggleable__control:checked~label.sk-toggleable__label {background-color: #d4ebff;}#sk-container-id-1 input.sk-hidden--visually {border: 0;clip: rect(1px 1px 1px 1px);clip: rect(1px, 1px, 1px, 1px);height: 1px;margin: -1px;overflow: hidden;padding: 0;position: absolute;width: 1px;}#sk-container-id-1 div.sk-estimator {font-family: monospace;background-color: #f0f8ff;border: 1px dotted black;border-radius: 0.25em;box-sizing: border-box;margin-bottom: 0.5em;}#sk-container-id-1 div.sk-estimator:hover {background-color: #d4ebff;}#sk-container-id-1 div.sk-parallel-item::after {content: \"\";width: 100%;border-bottom: 1px solid gray;flex-grow: 1;}#sk-container-id-1 div.sk-label:hover label.sk-toggleable__label {background-color: #d4ebff;}#sk-container-id-1 div.sk-serial::before {content: \"\";position: absolute;border-left: 1px solid gray;box-sizing: border-box;top: 0;bottom: 0;left: 50%;z-index: 0;}#sk-container-id-1 div.sk-serial {display: flex;flex-direction: column;align-items: center;background-color: white;padding-right: 0.2em;padding-left: 0.2em;position: relative;}#sk-container-id-1 div.sk-item {position: relative;z-index: 1;}#sk-container-id-1 div.sk-parallel {display: flex;align-items: stretch;justify-content: center;background-color: white;position: relative;}#sk-container-id-1 div.sk-item::before, #sk-container-id-1 div.sk-parallel-item::before {content: \"\";position: absolute;border-left: 1px solid gray;box-sizing: border-box;top: 0;bottom: 0;left: 50%;z-index: -1;}#sk-container-id-1 div.sk-parallel-item {display: flex;flex-direction: column;z-index: 1;position: relative;background-color: white;}#sk-container-id-1 div.sk-parallel-item:first-child::after {align-self: flex-end;width: 50%;}#sk-container-id-1 div.sk-parallel-item:last-child::after {align-self: flex-start;width: 50%;}#sk-container-id-1 div.sk-parallel-item:only-child::after {width: 0;}#sk-container-id-1 div.sk-dashed-wrapped {border: 1px dashed gray;margin: 0 0.4em 0.5em 0.4em;box-sizing: border-box;padding-bottom: 0.4em;background-color: white;}#sk-container-id-1 div.sk-label label {font-family: monospace;font-weight: bold;display: inline-block;line-height: 1.2em;}#sk-container-id-1 div.sk-label-container {text-align: center;}#sk-container-id-1 div.sk-container {/* jupyter's `normalize.less` sets `[hidden] { display: none; }` but bootstrap.min.css set `[hidden] { display: none !important; }` so we also need the `!important` here to be able to override the default hidden behavior on the sphinx rendered scikit-learn.org. See: https://github.com/scikit-learn/scikit-learn/issues/21755 */display: inline-block !important;position: relative;}#sk-container-id-1 div.sk-text-repr-fallback {display: none;}</style><div id=\"sk-container-id-1\" class=\"sk-top-container\"><div class=\"sk-text-repr-fallback\"><pre>LinearRegression()</pre><b>In a Jupyter environment, please rerun this cell to show the HTML representation or trust the notebook. <br />On GitHub, the HTML representation is unable to render, please try loading this page with nbviewer.org.</b></div><div class=\"sk-container\" hidden><div class=\"sk-item\"><div class=\"sk-estimator sk-toggleable\"><input class=\"sk-toggleable__control sk-hidden--visually\" id=\"sk-estimator-id-1\" type=\"checkbox\" checked><label for=\"sk-estimator-id-1\" class=\"sk-toggleable__label sk-toggleable__label-arrow\">LinearRegression</label><div class=\"sk-toggleable__content\"><pre>LinearRegression()</pre></div></div></div></div></div>"
      ],
      "text/plain": [
       "LinearRegression()"
      ]
     },
     "execution_count": 42,
     "metadata": {},
     "output_type": "execute_result"
    }
   ],
   "source": [
    "from sklearn.linear_model import LinearRegression\n",
    "lr = LinearRegression()\n",
    "\n",
    "lr.fit(X_train, y_train)\n"
   ]
  },
  {
   "cell_type": "code",
   "execution_count": 191,
   "id": "4d988e04-e91e-4a89-9dbe-cda392eace68",
   "metadata": {},
   "outputs": [
    {
     "data": {
      "text/plain": [
       "array([ -1.66585133,  50.20382156,  -9.7403552 , -32.96545331,\n",
       "        -2.16042906, -34.24727044,  -4.80914429])"
      ]
     },
     "execution_count": 191,
     "metadata": {},
     "output_type": "execute_result"
    }
   ],
   "source": [
    "lr.coef_"
   ]
  },
  {
   "cell_type": "code",
   "execution_count": 44,
   "id": "d8dd3a25-992f-413f-9c9e-aaa02e70c11a",
   "metadata": {},
   "outputs": [
    {
     "data": {
      "text/plain": [
       "175.0043202764977"
      ]
     },
     "execution_count": 44,
     "metadata": {},
     "output_type": "execute_result"
    }
   ],
   "source": [
    "lr.intercept_"
   ]
  },
  {
   "cell_type": "markdown",
   "id": "6fde3d7e-dc11-411e-aedb-fbaffee78f63",
   "metadata": {},
   "source": [
    "# Predict the value of Car and Test"
   ]
  },
  {
   "cell_type": "code",
   "execution_count": 126,
   "id": "c69c161d-0887-4167-b79b-8f9f172a74a2",
   "metadata": {},
   "outputs": [
    {
     "data": {
      "text/plain": [
       "array([-0.38548956, -0.26680106,  0.68353597, -0.96903266,  0.44661914,\n",
       "        0.34693142, -0.66500743])"
      ]
     },
     "execution_count": 126,
     "metadata": {},
     "output_type": "execute_result"
    }
   ],
   "source": [
    "X_test[0, :]"
   ]
  },
  {
   "cell_type": "code",
   "execution_count": 46,
   "id": "feae0af1-ab84-44b6-b046-0029b85516e5",
   "metadata": {},
   "outputs": [
    {
     "data": {
      "text/plain": [
       "array([177.89054733])"
      ]
     },
     "execution_count": 46,
     "metadata": {},
     "output_type": "execute_result"
    }
   ],
   "source": [
    "lr.predict([X_test[0, :]])"
   ]
  },
  {
   "cell_type": "code",
   "execution_count": 134,
   "id": "b923d7c5-b924-418b-b861-30c4cb5135b8",
   "metadata": {},
   "outputs": [
    {
     "data": {
      "text/plain": [
       "array([ 177.89054733,  214.93146449,   62.17337578,   63.77320078,\n",
       "        248.98392589,  196.17466642,  151.09729359,  121.5720151 ,\n",
       "        211.06810276,  162.12683043,   42.87890787,  203.91994831,\n",
       "        189.15156377,  197.20277828,  235.20460967,  155.59361191,\n",
       "        194.9951285 ,  251.40818432,  227.77655152,  187.91656995,\n",
       "        350.47268314,  206.52718279,  177.79727347,  192.32014176,\n",
       "        185.02047463,  215.00571685,  176.02304404,  165.36695708,\n",
       "        177.78478628,  121.97439646,  251.16676534,  253.82927891,\n",
       "        154.85038252, -103.42527678,  216.42984936,  222.79638064,\n",
       "        201.50216756,  190.03487843,  131.63909133,   27.61953943,\n",
       "        164.74049931,   53.76269504,  186.21662613,  197.92508502,\n",
       "        208.42939785,  184.10319745,  124.75669337,  193.43797812,\n",
       "        257.24877365,  166.71187312,  149.04168718,  204.06489129,\n",
       "        304.75842748,  177.0989427 ,   39.26408681,  234.42728061,\n",
       "        126.73391157,  176.92733267,  182.41556396,  246.00385785,\n",
       "        163.81571913,  209.86804032,  179.87384617,  150.84150728,\n",
       "        135.89360102,  137.92476313,   39.46812738,  216.11726301,\n",
       "        203.35176204,  219.25950614,  195.05498185,   67.86185142,\n",
       "        395.11619162,   81.7682323 ,   59.93386179,  202.92320111,\n",
       "        385.2181367 ,  178.91790984,  167.5265487 ,  135.95993535,\n",
       "        124.64432255,  339.52275115,  163.81571913,  112.64019608,\n",
       "         60.46630232,  180.76416777,  239.12988045,  218.83010869,\n",
       "        118.28600649,   22.05298043,  231.59581846,   42.00294388,\n",
       "        149.9143214 ,  218.23037117,  155.49425958,   44.0923369 ,\n",
       "        396.1833395 ,   15.76891374,  -69.72237688,  194.02031882,\n",
       "        194.15093397,   87.09148033,   62.49592417,  411.24378585,\n",
       "        237.34144991,  151.90779825,  185.8087113 ,  216.02474089,\n",
       "        227.60685988,  128.08772936,  195.26544372,  217.94835134,\n",
       "        178.82734419,  176.9604242 ,  273.23684148,   61.13694115,\n",
       "        200.23570687,  140.05216937,   61.29661329,  131.99045074,\n",
       "        167.1736233 ,   33.46799375,  138.73011347,  203.58943155,\n",
       "        193.04480411,  176.1953279 ,  154.41824396,  270.91914452,\n",
       "        357.69462931,   68.90042156,  156.41613984,  156.7793969 ,\n",
       "        290.76621488,  163.80965023,   27.69731123,  156.58738152,\n",
       "        204.63854915,  247.0091743 ,  179.87384617,  161.6405017 ,\n",
       "        212.14397799,  139.51149643,  168.92840138,  138.81405123,\n",
       "         39.87130506,  102.15982712,  208.7485815 ,  151.89211656,\n",
       "        216.59608341,  258.34651153,  336.60065093,   77.22044278,\n",
       "        204.22166868,  201.03421536,  350.47268314,  151.37479544,\n",
       "        312.98462021,   39.87130506,   22.86971924,  215.39621907,\n",
       "        107.75581887,   56.95121209,  120.81070651,  200.63475175,\n",
       "        169.05370101,  124.61854232,  180.53118017,  128.71357491,\n",
       "        196.96135931,   57.63823303,  242.02797287,  176.14584121,\n",
       "         87.2314767 ,  189.50249612,  245.8020794 ,  193.39347878,\n",
       "        257.98219434,  173.49343559,  235.84663551,  144.7584749 ,\n",
       "        141.48740935,  188.38834512,  202.47822289,  122.80068439,\n",
       "        208.42939785,   76.3358133 ,  157.07908942,  100.0784352 ,\n",
       "        210.65319279,  140.57549764,  330.97143467,  112.81692867,\n",
       "        165.72501467,  200.53438387,  158.14882525,  218.26877714,\n",
       "        202.15359862,  222.4590795 ,   76.54509984,  184.63663782,\n",
       "        299.29799039,  253.73744848,  147.47516981,   40.06800845,\n",
       "        274.73270026,  188.63085855,  248.01658077,  298.09397095,\n",
       "        277.55886498,  172.02266707,  236.91650012,  194.15093397,\n",
       "        193.9568586 ,  213.99540032,   46.48974297,  163.86777894,\n",
       "        202.68927225,  131.98968975,  110.68386986,  178.6464023 ,\n",
       "        210.21608264,  136.11954777,  178.03918753,   46.30269915,\n",
       "        127.81459196,   96.80716537,  249.5064546 ,  171.26186413,\n",
       "        244.87405443,  188.32008071,  115.75832279,   99.44122535,\n",
       "        179.08285344,  270.63287508,  178.60684048,  250.03507892,\n",
       "         64.04214054,   97.64947143,  235.34872871,  158.14882525,\n",
       "        156.92293231,  217.39122264,  166.58679785,  320.84443192,\n",
       "         32.59969019,  100.10973075,  164.80130322,  268.12730195,\n",
       "        177.25189107,  310.9849689 ,  164.74049931,  184.54401126,\n",
       "        196.03115429,  237.83638968,   89.02088753,  190.64767253,\n",
       "        207.72538031,  279.11916029,  117.22290929,   99.48456235,\n",
       "        188.11707291,  233.02405686,  169.40465508,  195.49428389,\n",
       "        147.58666256,  181.0517991 ,  163.22745554,  141.00438079,\n",
       "        255.54568831,  167.26314584,  302.97259863,   79.75479927,\n",
       "        122.91696103,  230.66760411,  186.04150099,  212.65410674,\n",
       "        217.78758999,   20.46458862,  316.16032101,   76.61732543,\n",
       "        154.48350731,   45.294569  ,  141.65158329,   69.94102061,\n",
       "        255.39537262,  263.57223939,  183.55792355,  184.70796828,\n",
       "        237.34144991,  143.31071255,  121.41259343,   56.52137384,\n",
       "        190.15630878,  234.38038281,  186.83989754,  192.00004042,\n",
       "        135.8468833 ,   91.91417243,  196.92129294,  254.52858381,\n",
       "        269.59643843,  216.42984936,  202.90606397,  185.6435545 ,\n",
       "        395.11619162,  203.67611816,  224.77768346,  129.71441634,\n",
       "        279.25273165,  189.50249612,  216.65024999,  140.11883789,\n",
       "        296.06918119,   59.93386179,  198.55360685,   92.25078575,\n",
       "         78.81526239,  199.97713267,  338.9068516 ,  162.56450813,\n",
       "        142.10516122,  237.07810656,  228.44795122,  275.31957579,\n",
       "         75.54189969,   71.93218106,   98.91842639,  266.14548818,\n",
       "        212.92042139,  157.28237619,  254.59267292,  156.38198473,\n",
       "        144.42963689,  143.43845454,  187.22392601,  205.05992536,\n",
       "         80.25266026,  -46.3262943 ,  198.20463621,  141.14175591,\n",
       "         98.11820415,   64.24838459,  241.8092522 ,   86.77674278,\n",
       "        206.30138188,  107.94683755,  208.97588755,   97.2044272 ,\n",
       "        137.07716529,  165.25934581,  126.73391157,  253.99333902,\n",
       "        171.71599104,  151.40075354,   54.57527146,  206.07375313,\n",
       "        311.88991225,  125.6513298 ,  202.43626594,   73.09593825,\n",
       "         44.88998833,  158.61548515,   67.09931744,  186.32796808,\n",
       "        202.2308509 ,  143.88103954,   27.02408878,  184.33360589,\n",
       "        263.57223939,  151.37479544,  151.36981879,  137.58497763,\n",
       "        243.58130567,   67.03704961,  126.73391157,  149.48588317,\n",
       "        247.23394369,  167.92320912,  256.41118667,  216.1503536 ,\n",
       "         50.77991548,  202.37570873,  138.33427142,  203.35176204,\n",
       "        182.07542917,  385.2181367 ,    4.82144303,  110.72863195,\n",
       "        152.22701914,   35.12402494,  211.06810276,  176.960487  ,\n",
       "        241.8092522 ,  195.76584244,  201.447109  ,  132.38687352,\n",
       "        103.68450545,   47.01281039,  109.60542589,  -42.14641365,\n",
       "        196.3291839 ,  176.48437704,  210.11195032,  108.87754733,\n",
       "        253.84431988,  206.7145972 ,  259.35175902,  151.0849725 ,\n",
       "        254.92150222,  180.57280414,  166.15954112,  237.07810656,\n",
       "        119.1399536 ,  293.47714416,  169.13663077,  135.21773021,\n",
       "        179.47642252,   26.55502629,   48.16571749,  199.22338866,\n",
       "        159.89176004,  189.50249612,  370.30516354,  246.58497702,\n",
       "        107.61113983,   67.38772363,   87.09148033,  176.9604242 ,\n",
       "        189.33723312,  134.58787119,  117.67346361,  193.51714569,\n",
       "         80.80488777,  145.3486003 ,   89.23245455,  256.36874094,\n",
       "        228.55434153,   50.8631634 ,  187.10569267,  314.10098021,\n",
       "        203.68682955,  177.56823948,  183.20087637,  311.36053634,\n",
       "        275.58613632,  225.46031421,  171.35515078,  187.16695766,\n",
       "        170.93772954,    9.00156421,  397.08048386,  234.72294065,\n",
       "        160.95343508,  120.44177247,  218.57142599,  131.43133028,\n",
       "        115.16255713,   88.04730636,  314.10098021,  157.07795455,\n",
       "        -28.04465139,  191.28731367,  240.41571184,   96.46719111,\n",
       "        400.31523543,  280.91057365,  239.3941586 ,  173.83749853,\n",
       "        327.34973138,  184.63663782,   26.77465171,  316.81721645,\n",
       "        167.18638629,  183.64909608,  175.75470894,  136.46481808,\n",
       "        162.60130758,  189.75718175,   84.71954175,  227.15293404,\n",
       "         54.41293801,  248.65684043,   53.89881483,  110.43674915,\n",
       "        134.94386797,  170.68530298,  245.62341467,  251.07151557,\n",
       "        119.986863  ,  233.87580043,   64.19497604,  215.93517157,\n",
       "        210.99716856,   43.29302269,  158.69440993,  203.02037343,\n",
       "        211.56741684,  217.6810062 ,  276.2827426 ,  181.3700212 ,\n",
       "        265.44107437,  197.63093446,   40.17751903,  263.57223939,\n",
       "        333.34263465,   85.81196105,  228.61554278,  136.70529723,\n",
       "        167.69420621,   36.34577876,  165.98495357,  174.58495739,\n",
       "        233.9090996 ,  -16.77742754,  212.01264434,  167.21977914,\n",
       "        387.00320645,  158.64200194,  128.84318725,  261.75017216,\n",
       "        200.84225635,  137.86574023,  172.02266707,   95.03860999,\n",
       "        114.39737665,  218.73921291,  148.12467174,  264.48982106,\n",
       "         98.11820415,  223.38975854,  276.44141716,  107.38513023,\n",
       "        242.73519926,  153.54080108,   73.62945511,  191.36530603,\n",
       "        262.70854532,  319.70410883,  -22.71896213,  188.83053223,\n",
       "        190.30364581,   24.01465825,  -10.12126406,  168.45591713,\n",
       "        234.53912453,  168.07531436,  214.30875823,   78.9760151 ,\n",
       "        310.08948412,  300.96086336,   40.11508309,  297.29655598,\n",
       "        165.03208951,  128.97257072,  172.60428919,   80.58795132,\n",
       "        175.3163405 ,  221.91868762,   75.77278061,  176.98144382,\n",
       "         70.76870506,  155.55479003,  244.8737808 ,  207.9249239 ,\n",
       "        106.74409035,   76.65084815,   27.01885562,  125.16824262,\n",
       "        163.03085616,  172.35657231,  149.53308953,  185.90444641,\n",
       "        126.73391157,  220.92962151,  112.38006142,  125.46211424,\n",
       "        135.89360102,  231.85337604,  181.77220442,  265.54721453,\n",
       "        249.7979958 ,  158.07518168,  121.54780313,  225.36623333,\n",
       "        129.71441634,   98.11820415,  186.70793371,  189.15156377,\n",
       "        243.03305319,  198.07961427,  154.06428157,  149.75479409,\n",
       "        105.26537503,  183.56438531,  213.86069927,  249.0132075 ,\n",
       "        165.23437143,  127.78175593,  216.66008548,  235.03550368,\n",
       "        184.63663782,  195.26422474,   95.43480397,  187.65449879,\n",
       "        173.00174372,   93.17919187,  144.54236525,  203.91366517,\n",
       "        220.92330864,  193.14265896,  194.86840638,  209.86804032,\n",
       "        220.8755486 ,  198.88428436,  233.15385138,  100.49932697,\n",
       "        164.62185827,  209.09156279,  225.81823353,  154.4523084 ,\n",
       "        126.73391157,   54.34426379,  385.85097835,  170.08682709,\n",
       "        142.27724075,  170.75502267,  -69.72237688,  170.46560514,\n",
       "         79.76012633,  228.79855942,   38.44997756,  126.73391157,\n",
       "        117.26816022,  198.11866416,  370.30516354,  157.41475095,\n",
       "        112.75918093,  189.15156377,  -33.99867075,  210.77557778,\n",
       "        317.79359747,  204.68499743,  200.69414948,  120.51956971,\n",
       "        307.30581396,  203.35176204,  183.51287707,  175.1216244 ,\n",
       "        154.77561276,  183.02431189,  194.60711009,  102.69535624,\n",
       "        241.97562555,  189.80081886,  141.22359013,   98.80801744,\n",
       "        245.56435981,  158.81935424,  -27.80676242,   55.0489416 ,\n",
       "        170.02586729,  166.69719283,  306.26714589,  167.44445485,\n",
       "        164.07175985,  171.36020961,  141.23871629,  255.1629212 ,\n",
       "        176.9604242 ,  262.11891481,  165.0420927 ,   94.88062831,\n",
       "        297.76025215,  189.70401906,   88.56175284,   86.79755476,\n",
       "         98.11820415,  360.52809376,  165.29384359,  208.70354342,\n",
       "        250.55194319,  148.04591005,  142.56417009,  175.17964983,\n",
       "        274.44339152,   53.75437025,  174.49173672,  308.18882759,\n",
       "        119.27203457,  239.25756492,  -25.67409951,  200.08470024,\n",
       "        178.47510737,  215.09157729,  201.48345283,   37.46126269,\n",
       "         46.48974297,  210.83840036,   41.40231751,  189.15156377,\n",
       "        293.47893891,   71.87058407,  158.49595208,  217.00539274,\n",
       "         78.64471702,  162.28336423,  308.03452297,  222.65289178,\n",
       "        185.09925573,   80.44991943,  207.0592976 ,   56.94704969,\n",
       "         43.16841481,  130.35184306,  235.20460967,  189.61065796,\n",
       "        122.76965992,  153.26851238,   89.61864824,    3.369546  ,\n",
       "        344.99273723,  127.46787838,  227.32509337,  -30.09588448,\n",
       "        126.17876172,  201.25618179,   96.7441597 ,  140.7941851 ,\n",
       "         41.40287321,  253.21944093,  170.75502267,  208.56324297,\n",
       "        241.8092522 ,   69.78602816,  174.95178902,  271.63312974,\n",
       "         89.68615574,  249.58378038,   36.99860432,  307.606026  ,\n",
       "         14.9031503 ,  -15.750557  ,  171.0356055 ,  129.05849069,\n",
       "        195.38784996,  258.21720361,  218.43789166,  155.9371003 ,\n",
       "        100.98512224,  177.22392854,  209.99920462,  178.60467613,\n",
       "        156.06974012,   86.91880503,  185.49343779,  199.24359172,\n",
       "        198.06563359,   45.83470541,  215.91094249,   73.38300283,\n",
       "        255.9525403 ,  155.34954655,  148.15116011,  313.93981681,\n",
       "        176.9604242 ,  262.11748506,  236.38933972,   50.19300264,\n",
       "        149.19023793,   10.83620785,   42.32869435,  230.34178122,\n",
       "        224.10983704,  117.96183155,  125.2548546 ,  128.8318178 ,\n",
       "        238.44333192,   83.50359626,  218.31693419,  138.70154642,\n",
       "        229.40223566,  170.13711227,  155.49425958,  164.39772979,\n",
       "        108.2392007 ,  185.40087518,  202.07803464,  117.32914733,\n",
       "        221.8319895 ,  203.50691077,  169.85838064,   86.03232122,\n",
       "        199.13106218,  241.20159887,  182.07542917,  208.61278397,\n",
       "        219.0799397 ,  184.92657811,  203.26431755,   68.54502517,\n",
       "        257.2120605 ,  130.76865856,  190.89964569,   88.75426433,\n",
       "         41.09960266,  172.16435793,  169.40707694,   98.57450142,\n",
       "        160.95343508,  227.95146472,  191.1879922 ,  175.1216244 ,\n",
       "         95.16606447,  133.25676034,  158.1666576 ,  156.09659973,\n",
       "        171.18986966,  147.99721824,   52.06859979,   86.5471551 ,\n",
       "        280.60573396,  204.49638683,  310.08948412,  196.53803419,\n",
       "        316.90300962,  368.97372162,   75.70992306,  164.98759137,\n",
       "        176.58175158,  153.54080108,  129.49496533,  154.41824396,\n",
       "        171.88524531,  163.81571913,  137.85692582,    9.00156421,\n",
       "        137.44280678,   41.09960266,  170.875877  ,  149.6880742 ,\n",
       "        152.60860333,  264.29098416,  105.91352089,  116.81023384,\n",
       "        275.30495417,   -9.53867545,   94.34035778,  228.79855942,\n",
       "         36.6883482 ,  181.56531646,  131.8542094 ,  385.2181367 ,\n",
       "        -38.58002771,   42.00294388,  137.07999053,   85.71467586,\n",
       "        263.33082041,  219.39509166,   -8.46844766,  267.89480599,\n",
       "        166.47647733,  204.27142805,  252.31083236,  180.36468433,\n",
       "        178.34194915,  314.10098021,  126.5607206 ,   27.87234912])"
      ]
     },
     "execution_count": 134,
     "metadata": {},
     "output_type": "execute_result"
    }
   ],
   "source": [
    "lr.predict(X_test)"
   ]
  },
  {
   "cell_type": "code",
   "execution_count": 48,
   "id": "ba0ff225-a894-491e-922f-3c8c256eb0e7",
   "metadata": {},
   "outputs": [
    {
     "data": {
      "text/plain": [
       "3385    156\n",
       "759     178\n",
       "960      31\n",
       "184     126\n",
       "3373    260\n",
       "       ... \n",
       "2192    182\n",
       "3426    169\n",
       "623     372\n",
       "3651     31\n",
       "1259     27\n",
       "Name: selling_price, Length: 868, dtype: int64"
      ]
     },
     "execution_count": 48,
     "metadata": {},
     "output_type": "execute_result"
    }
   ],
   "source": [
    "y_test"
   ]
  },
  {
   "cell_type": "code",
   "execution_count": 52,
   "id": "bbfae18f-7db3-48e3-8f48-5ab5db210f88",
   "metadata": {},
   "outputs": [
    {
     "data": {
      "text/plain": [
       "0.624743811786382"
      ]
     },
     "execution_count": 52,
     "metadata": {},
     "output_type": "execute_result"
    }
   ],
   "source": [
    "lr.score(X_test, y_test)"
   ]
  },
  {
   "cell_type": "markdown",
   "id": "174e6a2c-5123-478e-a828-7fb2d06390ab",
   "metadata": {},
   "source": [
    "# Implementing Ridge and Lasso Regression"
   ]
  },
  {
   "cell_type": "code",
   "execution_count": 54,
   "id": "3053d9e0-5a6b-4c84-bd83-5cdcb11fab76",
   "metadata": {},
   "outputs": [],
   "source": [
    "from sklearn.linear_model import Ridge, Lasso\n"
   ]
  },
  {
   "cell_type": "code",
   "execution_count": 56,
   "id": "df5af66c-8ad0-4f54-a26b-99f3abc126f0",
   "metadata": {},
   "outputs": [
    {
     "data": {
      "text/plain": [
       "0.62474684900763"
      ]
     },
     "execution_count": 56,
     "metadata": {},
     "output_type": "execute_result"
    }
   ],
   "source": [
    "rd = Ridge()\n",
    "\n",
    "rd.fit(X_train,y_train)\n",
    "\n",
    "rd.score(X_test, y_test)"
   ]
  },
  {
   "cell_type": "code",
   "execution_count": 58,
   "id": "4cf2476e-8540-4f55-9cc1-622d3fb8b312",
   "metadata": {},
   "outputs": [
    {
     "data": {
      "text/plain": [
       "0.6241137012941294"
      ]
     },
     "execution_count": 58,
     "metadata": {},
     "output_type": "execute_result"
    }
   ],
   "source": [
    "ls = Lasso()\n",
    "\n",
    "ls.fit(X_train,y_train)\n",
    "\n",
    "ls.score(X_test, y_test)"
   ]
  },
  {
   "cell_type": "code",
   "execution_count": 60,
   "id": "755de4d9-25ab-4c5d-b78d-a7d342898c25",
   "metadata": {},
   "outputs": [
    {
     "data": {
      "text/plain": [
       "0.6247498100240185"
      ]
     },
     "execution_count": 60,
     "metadata": {},
     "output_type": "execute_result"
    }
   ],
   "source": [
    "rd2 = Ridge(alpha = 2)\n",
    "\n",
    "rd2.fit(X_train,y_train)\n",
    "\n",
    "rd2.score(X_test, y_test)"
   ]
  },
  {
   "cell_type": "markdown",
   "id": "2af31187-5dfe-4fd9-be74-864680d9e4de",
   "metadata": {},
   "source": [
    "# Polynomial Linear Regression - ML Model Training"
   ]
  },
  {
   "cell_type": "code",
   "execution_count": 63,
   "id": "51fb61de-8bc4-48ee-8b26-e270b9ed8451",
   "metadata": {},
   "outputs": [],
   "source": [
    "from sklearn.linear_model import LinearRegression\n",
    "from sklearn.preprocessing import PolynomialFeatures"
   ]
  },
  {
   "cell_type": "code",
   "execution_count": 65,
   "id": "3b1f9952-47ed-4a9e-82d6-49519c09081d",
   "metadata": {},
   "outputs": [],
   "source": [
    "poly_reg = PolynomialFeatures(degree=2)\n",
    "poly_reg.fit(X_train)\n",
    "X_train_poly = poly_reg.transform(X_train)\n",
    "X_test_poly = poly_reg.transform(X_test)"
   ]
  },
  {
   "cell_type": "code",
   "execution_count": 67,
   "id": "8e6166a4-f3ff-404d-9902-5be7de7f95ef",
   "metadata": {},
   "outputs": [
    {
     "data": {
      "text/plain": [
       "((3472, 36), (868, 36))"
      ]
     },
     "execution_count": 67,
     "metadata": {},
     "output_type": "execute_result"
    }
   ],
   "source": [
    "X_train_poly.shape, X_test_poly.shape"
   ]
  },
  {
   "cell_type": "code",
   "execution_count": 69,
   "id": "c194a454-2a01-44ad-ad59-bad3faa9f078",
   "metadata": {},
   "outputs": [
    {
     "data": {
      "text/html": [
       "<style>#sk-container-id-2 {color: black;background-color: white;}#sk-container-id-2 pre{padding: 0;}#sk-container-id-2 div.sk-toggleable {background-color: white;}#sk-container-id-2 label.sk-toggleable__label {cursor: pointer;display: block;width: 100%;margin-bottom: 0;padding: 0.3em;box-sizing: border-box;text-align: center;}#sk-container-id-2 label.sk-toggleable__label-arrow:before {content: \"▸\";float: left;margin-right: 0.25em;color: #696969;}#sk-container-id-2 label.sk-toggleable__label-arrow:hover:before {color: black;}#sk-container-id-2 div.sk-estimator:hover label.sk-toggleable__label-arrow:before {color: black;}#sk-container-id-2 div.sk-toggleable__content {max-height: 0;max-width: 0;overflow: hidden;text-align: left;background-color: #f0f8ff;}#sk-container-id-2 div.sk-toggleable__content pre {margin: 0.2em;color: black;border-radius: 0.25em;background-color: #f0f8ff;}#sk-container-id-2 input.sk-toggleable__control:checked~div.sk-toggleable__content {max-height: 200px;max-width: 100%;overflow: auto;}#sk-container-id-2 input.sk-toggleable__control:checked~label.sk-toggleable__label-arrow:before {content: \"▾\";}#sk-container-id-2 div.sk-estimator input.sk-toggleable__control:checked~label.sk-toggleable__label {background-color: #d4ebff;}#sk-container-id-2 div.sk-label input.sk-toggleable__control:checked~label.sk-toggleable__label {background-color: #d4ebff;}#sk-container-id-2 input.sk-hidden--visually {border: 0;clip: rect(1px 1px 1px 1px);clip: rect(1px, 1px, 1px, 1px);height: 1px;margin: -1px;overflow: hidden;padding: 0;position: absolute;width: 1px;}#sk-container-id-2 div.sk-estimator {font-family: monospace;background-color: #f0f8ff;border: 1px dotted black;border-radius: 0.25em;box-sizing: border-box;margin-bottom: 0.5em;}#sk-container-id-2 div.sk-estimator:hover {background-color: #d4ebff;}#sk-container-id-2 div.sk-parallel-item::after {content: \"\";width: 100%;border-bottom: 1px solid gray;flex-grow: 1;}#sk-container-id-2 div.sk-label:hover label.sk-toggleable__label {background-color: #d4ebff;}#sk-container-id-2 div.sk-serial::before {content: \"\";position: absolute;border-left: 1px solid gray;box-sizing: border-box;top: 0;bottom: 0;left: 50%;z-index: 0;}#sk-container-id-2 div.sk-serial {display: flex;flex-direction: column;align-items: center;background-color: white;padding-right: 0.2em;padding-left: 0.2em;position: relative;}#sk-container-id-2 div.sk-item {position: relative;z-index: 1;}#sk-container-id-2 div.sk-parallel {display: flex;align-items: stretch;justify-content: center;background-color: white;position: relative;}#sk-container-id-2 div.sk-item::before, #sk-container-id-2 div.sk-parallel-item::before {content: \"\";position: absolute;border-left: 1px solid gray;box-sizing: border-box;top: 0;bottom: 0;left: 50%;z-index: -1;}#sk-container-id-2 div.sk-parallel-item {display: flex;flex-direction: column;z-index: 1;position: relative;background-color: white;}#sk-container-id-2 div.sk-parallel-item:first-child::after {align-self: flex-end;width: 50%;}#sk-container-id-2 div.sk-parallel-item:last-child::after {align-self: flex-start;width: 50%;}#sk-container-id-2 div.sk-parallel-item:only-child::after {width: 0;}#sk-container-id-2 div.sk-dashed-wrapped {border: 1px dashed gray;margin: 0 0.4em 0.5em 0.4em;box-sizing: border-box;padding-bottom: 0.4em;background-color: white;}#sk-container-id-2 div.sk-label label {font-family: monospace;font-weight: bold;display: inline-block;line-height: 1.2em;}#sk-container-id-2 div.sk-label-container {text-align: center;}#sk-container-id-2 div.sk-container {/* jupyter's `normalize.less` sets `[hidden] { display: none; }` but bootstrap.min.css set `[hidden] { display: none !important; }` so we also need the `!important` here to be able to override the default hidden behavior on the sphinx rendered scikit-learn.org. See: https://github.com/scikit-learn/scikit-learn/issues/21755 */display: inline-block !important;position: relative;}#sk-container-id-2 div.sk-text-repr-fallback {display: none;}</style><div id=\"sk-container-id-2\" class=\"sk-top-container\"><div class=\"sk-text-repr-fallback\"><pre>LinearRegression()</pre><b>In a Jupyter environment, please rerun this cell to show the HTML representation or trust the notebook. <br />On GitHub, the HTML representation is unable to render, please try loading this page with nbviewer.org.</b></div><div class=\"sk-container\" hidden><div class=\"sk-item\"><div class=\"sk-estimator sk-toggleable\"><input class=\"sk-toggleable__control sk-hidden--visually\" id=\"sk-estimator-id-2\" type=\"checkbox\" checked><label for=\"sk-estimator-id-2\" class=\"sk-toggleable__label sk-toggleable__label-arrow\">LinearRegression</label><div class=\"sk-toggleable__content\"><pre>LinearRegression()</pre></div></div></div></div></div>"
      ],
      "text/plain": [
       "LinearRegression()"
      ]
     },
     "execution_count": 69,
     "metadata": {},
     "output_type": "execute_result"
    }
   ],
   "source": [
    "lr = LinearRegression()\n",
    "\n",
    "lr.fit(X_train_poly, y_train)\n"
   ]
  },
  {
   "cell_type": "code",
   "execution_count": 71,
   "id": "138f8552-ac52-4c94-8ea7-296c9b571f0a",
   "metadata": {},
   "outputs": [
    {
     "data": {
      "text/plain": [
       "0.6802362705463136"
      ]
     },
     "execution_count": 71,
     "metadata": {},
     "output_type": "execute_result"
    }
   ],
   "source": [
    "lr.score(X_test_poly, y_test,)"
   ]
  },
  {
   "cell_type": "code",
   "execution_count": 73,
   "id": "3447f6cd-a33a-47d6-a81c-e876745f56bc",
   "metadata": {},
   "outputs": [
    {
     "data": {
      "text/plain": [
       "array([147.98706055])"
      ]
     },
     "execution_count": 73,
     "metadata": {},
     "output_type": "execute_result"
    }
   ],
   "source": [
    "lr.predict([X_test_poly[0,:]])"
   ]
  },
  {
   "cell_type": "code",
   "execution_count": 75,
   "id": "0922baee-97b4-4561-a569-994eeb2213e4",
   "metadata": {},
   "outputs": [
    {
     "data": {
      "text/plain": [
       "array([147.98706055, 210.78979492,  56.98339844,  68.99072266,\n",
       "       256.46289062, 177.26977539, 170.26391602, 123.36303711,\n",
       "       207.53417969, 127.16699219,  50.61083984, 217.16333008,\n",
       "       175.0246582 , 174.64453125, 228.56396484, 116.35717773,\n",
       "       200.24023438, 268.88256836, 258.09545898, 173.74707031,\n",
       "       416.60546875, 204.61425781, 166.86621094, 203.72924805,\n",
       "       157.87841797, 268.77954102, 189.58032227, 190.20800781,\n",
       "       166.8215332 ,  86.6953125 , 270.24560547, 275.03466797,\n",
       "       123.18994141,  32.3815918 , 196.23388672, 231.69067383,\n",
       "       180.49829102, 184.27075195, 126.47119141,  67.39990234,\n",
       "       170.06176758,  59.34863281, 178.68847656, 175.16162109,\n",
       "       216.93725586, 164.55834961, 100.47607422, 182.69921875,\n",
       "       256.53540039, 162.85375977, 140.13085938, 223.72460938,\n",
       "       238.92871094, 167.92016602,  67.92163086, 230.63696289,\n",
       "       118.32226562, 164.45263672, 157.68115234, 288.85546875,\n",
       "       230.52294922, 194.34667969, 193.05175781, 114.65356445,\n",
       "       126.41821289,  93.54101562,  45.27246094, 209.14941406,\n",
       "       213.69213867, 207.54736328, 182.40112305,  66.71069336,\n",
       "       469.33886719,  50.98046875,  57.46801758, 191.36694336,\n",
       "       405.68261719, 155.96362305, 158.60205078, 133.49365234,\n",
       "       122.62939453, 355.10253906, 230.52294922,  96.16210938,\n",
       "       140.46289062, 179.69873047, 273.52075195, 212.20581055,\n",
       "        82.42114258,  45.88720703, 225.99707031,  55.47583008,\n",
       "       129.05664062, 285.22314453, 129.12231445,  46.14233398,\n",
       "       441.50683594,  39.42138672,  22.76855469, 199.29492188,\n",
       "       196.26123047, 117.85644531,  62.81005859, 475.88867188,\n",
       "       239.32128906, 122.94165039, 179.19897461, 216.50683594,\n",
       "       257.91015625, 121.80078125, 214.05249023, 212.5480957 ,\n",
       "       164.63012695, 244.62255859, 309.34545898,  64.52539062,\n",
       "       201.73339844, 116.80566406,  55.31933594, 126.015625  ,\n",
       "       176.07080078,  41.02612305, 122.66918945, 202.96264648,\n",
       "       188.44628906, 161.34033203, 149.4675293 , 276.25390625,\n",
       "       353.3828125 ,  71.60766602, 153.97094727, 153.34765625,\n",
       "       349.43823242, 162.52758789,  45.27807617, 139.6862793 ,\n",
       "       192.40917969, 249.66748047, 193.05175781, 182.94824219,\n",
       "       209.86645508, 121.54638672, 168.66796875, 139.51538086,\n",
       "        43.10791016,  89.24267578, 254.99316406, 144.73266602,\n",
       "       211.84033203, 271.97363281, 388.97753906,  70.63354492,\n",
       "       204.40795898, 213.44140625, 416.60546875, 211.52148438,\n",
       "       315.66894531,  43.10791016,  36.79296875, 217.06689453,\n",
       "       108.55419922,  61.61035156, 129.68188477, 191.26098633,\n",
       "       166.95507812, 107.18041992, 175.69726562, 124.42797852,\n",
       "       175.08154297,  69.95068359, 268.49853516, 163.92236328,\n",
       "        73.4609375 , 165.66308594, 252.54272461, 189.80957031,\n",
       "       284.61962891, 175.8996582 , 253.16210938, 129.66796875,\n",
       "       107.58740234, 167.86816406, 201.31518555,  91.95996094,\n",
       "       216.93725586,  41.88818359, 150.20263672,  72.66992188,\n",
       "       198.03857422, 152.70361328, 291.47363281,  93.171875  ,\n",
       "       157.64428711, 196.35839844, 140.36083984, 222.86645508,\n",
       "       205.75561523, 213.43383789,  69.24072266, 181.55102539,\n",
       "       225.23730469, 259.50854492, 110.15722656,  29.65917969,\n",
       "       313.57006836, 187.55224609, 273.83422852, 307.765625  ,\n",
       "       310.18164062, 161.9934082 , 245.82226562, 196.26123047,\n",
       "       176.43896484, 249.62255859,  50.70898438, 150.32861328,\n",
       "       183.6940918 , 137.63989258,  95.42578125, 170.60180664,\n",
       "       227.9621582 , 106.77636719, 164.22021484,  52.97216797,\n",
       "       119.05810547,  88.53417969, 256.1315918 , 170.76831055,\n",
       "       245.68969727, 185.59228516,  91.90893555,  94.60327148,\n",
       "       144.84667969, 293.23974609, 182.14233398, 255.13842773,\n",
       "        57.83837891,  83.11743164, 231.91845703, 140.36083984,\n",
       "       141.34838867, 240.81835938, 168.06054688, 235.66601562,\n",
       "        40.97705078,  71.68505859, 159.53613281, 284.29418945,\n",
       "       185.10327148, 236.47070312, 170.06176758, 162.91601562,\n",
       "       176.86987305, 241.26416016,  89.99658203, 193.23632812,\n",
       "       215.16186523, 306.49804688, 101.73022461,  84.49804688,\n",
       "       171.65551758, 217.20458984, 163.36230469, 171.45410156,\n",
       "       134.27734375, 164.17163086, 145.64453125, 129.52832031,\n",
       "       278.52758789, 182.65014648, 238.63671875,  77.02685547,\n",
       "        93.88012695, 228.84204102, 171.85546875, 216.03735352,\n",
       "       197.20996094,  50.45947266, 355.01953125,  78.05273438,\n",
       "       155.51782227,  51.24389648, 105.01367188,  67.11401367,\n",
       "       288.29614258, 277.36865234, 162.24682617, 198.81494141,\n",
       "       239.32128906, 124.484375  , 115.48779297,  57.55908203,\n",
       "       197.29711914, 227.36108398, 163.10595703, 162.54516602,\n",
       "       161.87036133,  82.75244141, 190.9597168 , 276.98071289,\n",
       "       296.79321289, 196.23388672, 177.14941406, 155.72705078,\n",
       "       469.33886719, 232.86010742, 234.28588867, 141.19262695,\n",
       "       303.77416992, 165.66308594, 217.59448242, 111.47607422,\n",
       "       309.59179688,  57.46801758, 173.69726562,  79.72729492,\n",
       "        70.40600586, 221.92553711, 350.87011719, 146.16992188,\n",
       "       150.31542969, 254.32348633, 275.5546875 , 296.88598633,\n",
       "        64.77587891,  57.21777344,  92.45654297, 197.92089844,\n",
       "       214.32373047, 155.34472656, 260.84643555, 147.2890625 ,\n",
       "        92.37304688, 142.30273438, 178.77490234, 221.75341797,\n",
       "        61.50146484,  41.80859375, 172.40356445, 138.12890625,\n",
       "       108.01342773,  68.78686523, 320.97753906,  74.07788086,\n",
       "       193.90600586,  70.97851562, 194.2175293 ,  96.47363281,\n",
       "       137.36547852, 158.63500977, 118.32226562, 258.32958984,\n",
       "       167.05688477, 149.9934082 ,  51.71606445, 206.87158203,\n",
       "       222.84472656, 108.34301758, 226.72802734,  90.47558594,\n",
       "        63.79077148, 223.13012695,  67.125     ,  64.03417969,\n",
       "       179.10351562, 112.48779297,  23.99511719, 168.03930664,\n",
       "       277.36865234, 211.52148438, 129.25830078, 132.26928711,\n",
       "       207.67773438,  57.7668457 , 118.32226562, 146.15820312,\n",
       "       249.43603516, 143.54931641, 264.17041016, 202.3684082 ,\n",
       "        51.91503906, 187.61474609, 159.07177734, 213.69213867,\n",
       "       176.13745117, 405.68261719,  28.57641602,  74.27685547,\n",
       "       149.59619141,  51.37207031, 207.53417969, 168.04394531,\n",
       "       320.97753906, 191.78149414, 203.22241211, 174.20214844,\n",
       "        99.38891602,  59.203125  ,  94.76806641,  22.96020508,\n",
       "       170.42089844, 173.42358398, 232.36572266,  92.74316406,\n",
       "       277.75854492, 215.02172852, 272.34716797, 149.49707031,\n",
       "       261.82128906, 175.64990234, 158.03930664, 254.32348633,\n",
       "       104.02197266, 349.33496094, 169.07543945, 112.11083984,\n",
       "       166.86108398,  51.03857422,  74.37841797, 181.22583008,\n",
       "       145.86865234, 165.66308594, 387.34472656, 271.6875    ,\n",
       "        80.29589844,  53.82666016, 117.85644531, 244.62255859,\n",
       "       183.88623047, 118.99902344,  84.37207031, 178.38012695,\n",
       "        79.12231445, 105.2824707 ,  80.16430664, 267.39672852,\n",
       "       219.34277344,  51.70288086, 168.7824707 , 351.73632812,\n",
       "       199.69873047, 163.26074219, 201.88598633, 303.61230469,\n",
       "       312.19458008, 217.46948242, 153.84448242, 205.0378418 ,\n",
       "       162.29077148,  33.08642578, 451.19921875, 211.05859375,\n",
       "       155.74804688, 118.13378906, 239.2409668 , 166.80639648,\n",
       "       109.5546875 ,  72.09838867, 351.73632812, 156.98071289,\n",
       "        27.14160156, 211.8359375 , 275.52050781,  86.48046875,\n",
       "       478.18066406, 228.55175781, 252.03173828, 178.77929688,\n",
       "       272.78808594, 181.55102539,  66.68994141, 243.08691406,\n",
       "       158.65454102, 168.40283203, 161.12524414,  99.21484375,\n",
       "       146.41772461, 180.45800781,  74.69360352, 213.80541992,\n",
       "        51.66137695, 290.94311523,  60.52392578, 124.77050781,\n",
       "       140.20263672, 162.359375  , 257.70605469, 254.72387695,\n",
       "       102.07324219, 251.890625  ,  57.58032227, 204.75439453,\n",
       "       203.0637207 ,  39.86279297, 146.13574219, 201.60424805,\n",
       "       200.19116211, 222.36499023, 315.25415039, 197.19018555,\n",
       "       276.25878906, 178.97265625,  52.53027344, 277.36865234,\n",
       "       352.24511719,  74.140625  , 240.91113281, 158.27685547,\n",
       "       160.78320312,  41.54370117, 192.55957031, 146.49462891,\n",
       "       251.61889648,  25.98974609, 217.05688477, 145.82006836,\n",
       "       408.83203125, 136.76245117, 105.72851562, 259.10424805,\n",
       "       199.31738281, 100.75854492, 161.9934082 ,  83.33642578,\n",
       "        95.69091797, 202.14550781, 111.38793945, 280.16040039,\n",
       "       108.01342773, 240.74658203, 233.4453125 ,  97.74951172,\n",
       "       279.92700195, 139.41577148,  69.1550293 , 191.88378906,\n",
       "       275.28173828, 252.51855469,  11.90185547, 179.84106445,\n",
       "       181.17675781,  59.63598633,  31.49023438, 149.51220703,\n",
       "       238.00024414, 158.76513672, 197.47021484,  64.5234375 ,\n",
       "       271.76757812, 369.58007812,  52.66894531, 287.26953125,\n",
       "       153.98730469, 101.66113281, 192.82128906,  68.41137695,\n",
       "       163.08789062, 229.68701172,  66.97070312, 164.56103516,\n",
       "        63.92944336, 129.39648438, 267.66821289, 186.07592773,\n",
       "        81.30932617,  78.1862793 ,  37.76513672, 111.97827148,\n",
       "       150.0546875 , 168.4855957 , 148.3125    , 179.05102539,\n",
       "       118.32226562, 244.17749023, 130.15356445, 128.70605469,\n",
       "       126.41821289, 243.28100586, 173.00317383, 283.1315918 ,\n",
       "       268.93286133, 138.31103516, 101.2265625 , 211.95092773,\n",
       "       141.19262695, 108.01342773, 181.00341797, 175.0246582 ,\n",
       "       247.85253906, 216.47021484, 128.76806641, 146.16967773,\n",
       "        92.15332031, 156.00317383, 203.04150391, 264.36669922,\n",
       "       158.68188477, 125.18066406, 237.19311523, 242.40991211,\n",
       "       181.55102539, 184.05908203,  76.46923828, 176.05688477,\n",
       "       162.54248047,  87.6003418 , 165.80224609, 194.90820312,\n",
       "       225.64355469, 203.43408203, 173.91162109, 194.34667969,\n",
       "       216.67749023, 194.60180664, 245.44726562,  96.79882812,\n",
       "       136.98730469, 205.17382812, 221.34692383, 149.86572266,\n",
       "       118.32226562,  45.44335938, 454.73144531, 154.0949707 ,\n",
       "       150.55371094, 157.84204102,  22.76855469, 151.58886719,\n",
       "        73.61254883, 235.50683594,  43.41308594, 118.32226562,\n",
       "       106.66674805, 214.50683594, 387.34472656, 150.21728516,\n",
       "        96.31274414, 175.0246582 ,  26.28100586, 183.87011719,\n",
       "       265.27148438, 113.09814453, 178.07641602,  84.86962891,\n",
       "       270.64257812, 213.69213867, 165.55810547, 181.64331055,\n",
       "       131.92285156, 168.10546875, 188.92382812,  98.43261719,\n",
       "       241.68310547, 180.20117188, 135.68847656, 128.88769531,\n",
       "       276.31713867, 145.32104492,  33.92822266,  63.55151367,\n",
       "        62.44970703, 156.60620117, 344.00390625, 156.54931641,\n",
       "       148.93774414, 164.97949219, 137.44677734, 262.66723633,\n",
       "       244.62255859, 284.06640625,  47.77587891,  86.21435547,\n",
       "       246.17285156, 181.30541992,  46.48046875,  74.11914062,\n",
       "       108.01342773, 411.3828125 , 146.26660156, 207.06030273,\n",
       "       273.72119141, 153.86694336, 108.0534668 , 139.09472656,\n",
       "       316.52563477,  59.36499023, 143.4855957 , 233.96972656,\n",
       "        97.77392578, 252.28857422,  30.31665039, 196.94458008,\n",
       "       174.20922852, 241.01635742, 211.35302734,  57.0222168 ,\n",
       "        50.70898438, 243.44482422,  45.30126953, 175.0246582 ,\n",
       "       234.73144531,  66.9621582 , 144.50244141, 205.01513672,\n",
       "        70.25463867, 126.65039062, 238.57714844, 211.17236328,\n",
       "       180.02416992,  78.38671875, 188.36425781,  61.63085938,\n",
       "        51.34521484, 120.609375  , 228.56396484, 187.58300781,\n",
       "       152.3515625 , 143.07177734,  89.4831543 ,  55.98754883,\n",
       "       358.45996094, 119.93554688, 220.44116211,  26.40722656,\n",
       "        86.69140625, 198.75439453,  90.19433594, 111.33666992,\n",
       "        73.79785156, 276.51831055, 157.84204102, 225.00463867,\n",
       "       320.97753906,  61.73144531, 144.72729492, 278.67431641,\n",
       "        79.09155273, 266.55078125,  41.328125  , 270.30371094,\n",
       "        32.61914062,  31.22900391, 180.68505859, 124.29907227,\n",
       "       168.29882812, 283.15063477, 223.58569336, 155.39624023,\n",
       "       103.80761719, 222.65673828, 189.94921875, 158.28979492,\n",
       "       128.05053711,  79.93041992, 172.99511719, 182.85766602,\n",
       "       189.89599609,  48.74682617, 217.41967773,  75.93334961,\n",
       "       181.4519043 , 150.44091797, 149.23925781, 235.54785156,\n",
       "       244.62255859, 275.82177734, 298.79833984,  62.60424805,\n",
       "       117.6015625 ,  44.02563477,  47.21484375, 272.27661133,\n",
       "       230.12939453, 116.69628906, 100.4609375 , 100.01586914,\n",
       "       314.07763672,  85.85668945, 224.81933594, 129.98535156,\n",
       "       235.34350586, 182.98876953, 129.12231445, 160.93359375,\n",
       "       138.95727539, 177.60961914, 197.43408203, 122.859375  ,\n",
       "       290.75683594, 223.64868164, 132.73486328,  82.82739258,\n",
       "       176.13745117, 257.43212891, 176.13745117, 194.36694336,\n",
       "       224.41918945, 200.4831543 , 200.22021484,  62.00488281,\n",
       "       280.61767578, 115.39746094, 197.23266602,  77.29150391,\n",
       "        46.90209961, 180.9453125 , 163.74145508, 131.52929688,\n",
       "       155.74804688, 218.22363281, 180.06298828, 181.64331055,\n",
       "        88.01855469, 128.72314453, 163.11621094, 153.27880859,\n",
       "       160.98730469, 156.55957031,  65.39624023,  61.19189453,\n",
       "       306.43505859, 205.9296875 , 271.76757812, 202.92919922,\n",
       "       355.75390625, 404.94335938,  79.01245117, 155.14379883,\n",
       "       169.87792969, 139.41577148, 114.70874023, 149.4675293 ,\n",
       "       169.82568359, 230.52294922, 159.84179688,  33.08642578,\n",
       "       114.05859375,  46.90209961, 171.8425293 , 119.79101562,\n",
       "       160.51733398, 262.97265625, 101.53735352,  99.22045898,\n",
       "       314.7902832 ,  25.93041992,  85.29077148, 235.50683594,\n",
       "        70.81054688, 176.64624023, 119.97607422, 405.68261719,\n",
       "        17.7175293 ,  55.47583008, 125.54711914,  61.6237793 ,\n",
       "       277.62280273, 224.61938477,  31.18994141, 283.35546875,\n",
       "       156.48095703, 211.72900391, 260.61669922, 175.91894531,\n",
       "       165.65429688, 351.73632812,  94.00585938,  47.17602539])"
      ]
     },
     "execution_count": 75,
     "metadata": {},
     "output_type": "execute_result"
    }
   ],
   "source": [
    "y_pred = lr.predict(X_test_poly)\n",
    "y_pred"
   ]
  },
  {
   "cell_type": "code",
   "execution_count": 77,
   "id": "7cb1906d-302f-4200-9d81-930ab7bb4bbc",
   "metadata": {},
   "outputs": [
    {
     "data": {
      "text/plain": [
       "3385    156\n",
       "759     178\n",
       "960      31\n",
       "184     126\n",
       "3373    260\n",
       "       ... \n",
       "2192    182\n",
       "3426    169\n",
       "623     372\n",
       "3651     31\n",
       "1259     27\n",
       "Name: selling_price, Length: 868, dtype: int64"
      ]
     },
     "execution_count": 77,
     "metadata": {},
     "output_type": "execute_result"
    }
   ],
   "source": [
    "y_test"
   ]
  },
  {
   "cell_type": "code",
   "execution_count": 79,
   "id": "2771d0e2-e742-41f3-a3f0-27f049ba0779",
   "metadata": {},
   "outputs": [
    {
     "name": "stdout",
     "output_type": "stream",
     "text": [
      "MSE= 3221.4307282444793\n",
      "RMSE= 56.75764907256536\n"
     ]
    }
   ],
   "source": [
    "from sklearn.metrics import mean_squared_error\n",
    "mse = mean_squared_error(y_test, y_pred)                                                                                                                   \n",
    "rmse = np.sqrt(mse)\n",
    "\n",
    "print('MSE=',mse)\n",
    "print('RMSE=',rmse) "
   ]
  },
  {
   "cell_type": "code",
   "execution_count": null,
   "id": "883de0a7-804f-4f1b-9d60-3834544c5e3f",
   "metadata": {},
   "outputs": [],
   "source": []
  }
 ],
 "metadata": {
  "kernelspec": {
   "display_name": "Python 3 (ipykernel)",
   "language": "python",
   "name": "python3"
  },
  "language_info": {
   "codemirror_mode": {
    "name": "ipython",
    "version": 3
   },
   "file_extension": ".py",
   "mimetype": "text/x-python",
   "name": "python",
   "nbconvert_exporter": "python",
   "pygments_lexer": "ipython3",
   "version": "3.11.7"
  }
 },
 "nbformat": 4,
 "nbformat_minor": 5
}
